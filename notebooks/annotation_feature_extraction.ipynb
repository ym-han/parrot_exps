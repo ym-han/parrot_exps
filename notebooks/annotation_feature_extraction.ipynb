{
 "cells": [
  {
   "cell_type": "markdown",
   "metadata": {},
   "source": [
    "## What we want to try to do:\n",
    "\n",
    "### Data annotation and preprocessing from \"Nonverbal Sound Detection for Disordered Speech\":\n",
    "\n",
    "* Each mouth sound recording contains repeated instances of one sound type with silence in between. \n",
    "* Make labels for each frame by computing the energy in the audio signal and finding segments with minimum duration of 30 ms and whose relative energy exceeded one standard deviation from the mean. \n",
    "    - All frames within a given segment were labeled with the user-annotated sound type and all others were considered \"silence.\"\n",
    "* Labels for speech clips were generated using a speech activity detector and all aggressor clip frames were labeled with the background class.\n",
    "\n",
    "### Data pipeline:\n",
    "    \n",
    "> 300ms window of 16 hz sound recordings -> 64 dimensional log mel-spectrograms generated with a 25 ms window and stride of 10 ms, resulting in a 100 hz sampling rate.\n",
    "\n",
    "### Other things to note \n",
    "Don't forget to normalize volume!\n",
    "\n",
    "If you have issues with ffmpeg, you might need to uninstall it (with `<conda/mamba> uninstall ffmpeg --force`) and then reinstall it in the conda env."
   ]
  },
  {
   "cell_type": "markdown",
   "metadata": {},
   "source": [
    "## Reproducing their Data Annotation Step\n",
    "\n",
    "1. Find segments with min duration 30ms and whose relative energy > mean. Call these `tgt_segments`\n",
    "2. Split all segments into frames, both `tgt_segments` and non-target ones.\n",
    "3. Annotate frames of `tgt_segments` with the sound type, and annotate all other frames as 'silence'\n",
    "\n",
    "#### Useful resources:\n",
    "\n",
    "On silence splitting:\n",
    "* https://medium.com/@vvk.victory/audio-processing-librosa-split-on-silence-8e1edab07bbb\n",
    "* https://musicinformationretrieval.com/energy.html\n",
    "* https://hackernoon.com/audio-handling-basics-how-to-process-audio-files-using-python-cli-jo283u3y\n",
    "* https://stackoverflow.com/questions/45526996/split-audio-files-using-silence-detection\n",
    "\n",
    "On splitting into frames:\n",
    "* https://groups.google.com/g/librosa/c/eQMGmyjObyk\n",
    "\n",
    "Let's first try a quick toy example."
   ]
  },
  {
   "cell_type": "code",
   "execution_count": 63,
   "metadata": {},
   "outputs": [],
   "source": [
    "from pathlib import Path\n",
    "import numpy as np\n",
    "import pandas as pd\n",
    "\n",
    "import matplotlib.pyplot as plt\n",
    "import seaborn as sns\n",
    "\n",
    "from pydub import AudioSegment\n",
    "from pydub.utils import make_chunks\n",
    "from pydub.silence import split_on_silence, detect_nonsilent, detect_silence\n",
    "import librosa\n",
    "import librosa.display\n",
    "import IPython.display as ipd\n",
    "\n",
    "import itertools as itools\n",
    "from functools import partial\n",
    "from collections import namedtuple\n",
    "from dataclasses import asdict, dataclass, field\n",
    "from typing import Optional, List, Any, Callable, Generator, Dict\n",
    "\n",
    "# sns theme from Medallion Data Science\n",
    "sns.set_theme(style=\"white\", palette=None)\n",
    "color_pal = plt.rcParams[\"axes.prop_cycle\"].by_key()[\"color\"]\n",
    "color_cycle = itools.cycle(plt.rcParams[\"axes.prop_cycle\"].by_key()[\"color\"])"
   ]
  },
  {
   "cell_type": "code",
   "execution_count": 4,
   "metadata": {},
   "outputs": [],
   "source": [
    "# trying to track down pydub issues...\n",
    "import logging\n",
    "logger = logging.getLogger(\"pydub.converter\")\n",
    "logger.setLevel(logging.DEBUG)\n",
    "logger.addHandler(logging.StreamHandler())"
   ]
  },
  {
   "cell_type": "code",
   "execution_count": 5,
   "metadata": {},
   "outputs": [],
   "source": [
    "PATH_ALVCLICK = Path(\"../data/toy_data/05a15-alv-click-1.m4a\")"
   ]
  },
  {
   "cell_type": "code",
   "execution_count": 8,
   "metadata": {},
   "outputs": [
    {
     "name": "stderr",
     "output_type": "stream",
     "text": [
      "subprocess.call(['ffmpeg', '-y', '-i', '../data/toy_data/05a15-alv-click-1.m4a', '-acodec', 'pcm_s16le', '-vn', '-f', 'wav', '-'])\n"
     ]
    }
   ],
   "source": [
    "#alvclick_y, alvclick_sr = librosa.load(str(PATH_ALVCLICK))  \n",
    "alvclick = AudioSegment.from_file(str(PATH_ALVCLICK))"
   ]
  },
  {
   "cell_type": "code",
   "execution_count": 56,
   "metadata": {},
   "outputs": [
    {
     "data": {
      "text/plain": [
       "32"
      ]
     },
     "execution_count": 56,
     "metadata": {},
     "output_type": "execute_result"
    }
   ],
   "source": [
    "len(nonsilent_segments_with_default_threshold)"
   ]
  },
  {
   "cell_type": "markdown",
   "metadata": {},
   "source": [
    "#### a. Split into audio segments; get the mean dBFS over all the segments and the SD"
   ]
  },
  {
   "cell_type": "code",
   "execution_count": 68,
   "metadata": {},
   "outputs": [],
   "source": [
    "\n",
    "chunk_len_ms = 30 \n",
    "chunks = make_chunks(alvclick, chunk_len_ms)\n",
    "chunk_dBFSes = [chunk.dBFS for chunk in chunks]"
   ]
  },
  {
   "cell_type": "code",
   "execution_count": 57,
   "metadata": {},
   "outputs": [
    {
     "name": "stdout",
     "output_type": "stream",
     "text": [
      "mean_dBFS: -76.35081651339331, std: 8.893269827514223, median: -78.2677988726351\n"
     ]
    },
    {
     "data": {
      "image/png": "[encoded data removed]",
      "text/plain": [
       "<Figure size 500x500 with 1 Axes>"
      ]
     },
     "metadata": {},
     "output_type": "display_data"
    }
   ],
   "source": [
    "mean_dBFS, std_dBFS, median_dBFS = np.mean(chunk_dBFSes), np.std(chunk_dBFSes), np.median(chunk_dBFSes)\n",
    "print(f\"mean_dBFS: {mean_dBFS}, std: {std_dBFS}, median: {median_dBFS}\")\n",
    "sns.displot(data=chunk_dBFSes, binwidth=6)\n",
    "plt.title(\"dBFS (db relative to the maximum possible loudness)\")\n",
    "plt.show()"
   ]
  },
  {
   "cell_type": "markdown",
   "metadata": {},
   "source": [
    "Re dBFS: A Square wave at maximum amplitude will be roughly 0 dBFS (maximum loudness), whereas a Sine Wave at maximum amplitude will be roughly -3 dBFS."
   ]
  },
  {
   "cell_type": "markdown",
   "metadata": {},
   "source": [
    "Let's first try getting a list of all non-silent sections [start, end] in milliseconds, using the pydub `detect_nonsilent` function. This will allow us to get a sense for `pydub` and the various settings, and serve as a quick sanity check."
   ]
  },
  {
   "cell_type": "code",
   "execution_count": 61,
   "metadata": {},
   "outputs": [
    {
     "name": "stdout",
     "output_type": "stream",
     "text": [
      "number of non silent segments: 32\n"
     ]
    },
    {
     "data": {
      "text/plain": [
       "[[829, 1054],\n",
       " [2483, 2525],\n",
       " [4353, 4399],\n",
       " [6346, 6383],\n",
       " [8349, 8382],\n",
       " [10273, 10310],\n",
       " [12236, 12255],\n",
       " [14402, 14437],\n",
       " [16717, 16758],\n",
       " [18593, 18600],\n",
       " [20462, 20499],\n",
       " [22385, 22498],\n",
       " [24551, 24678],\n",
       " [26656, 26693],\n",
       " [28778, 28824],\n",
       " [30860, 30925],\n",
       " [32667, 32780],\n",
       " [34455, 34509],\n",
       " [36320, 36521],\n",
       " [38521, 38562],\n",
       " [40620, 40640],\n",
       " [42512, 42533],\n",
       " [44862, 45537],\n",
       " [46601, 46733],\n",
       " [48545, 48839],\n",
       " [50954, 50996],\n",
       " [52959, 52981],\n",
       " [54732, 54774],\n",
       " [56468, 56504],\n",
       " [58539, 58569],\n",
       " [60376, 60405],\n",
       " [61371, 62891]]"
      ]
     },
     "execution_count": 61,
     "metadata": {},
     "output_type": "execute_result"
    }
   ],
   "source": [
    "min_silence_len_ms = 650 # I didn't always suceed at waiting long enough \n",
    "silence_upper_bound_dbfs = median_dBFS + std_dBFS # anything quieter than this --- i.e., anything with a lower dBFS --- will be considered silence\n",
    "nonsilent_segments = detect_nonsilent(alvclick, min_silence_len_ms, silence_upper_bound_dbfs)\n",
    "print(f\"number of non silent segments:\", len(nonsilent_segments))\n",
    "nonsilent_segments\n",
    "# this takes quite a while"
   ]
  },
  {
   "cell_type": "code",
   "execution_count": 67,
   "metadata": {},
   "outputs": [
    {
     "name": "stdout",
     "output_type": "stream",
     "text": [
      "33\n"
     ]
    },
    {
     "data": {
      "text/plain": [
       "[[0, 829],\n",
       " [1054, 2483],\n",
       " [2525, 4353],\n",
       " [4399, 6346],\n",
       " [6383, 8349],\n",
       " [8382, 10273],\n",
       " [10310, 12236],\n",
       " [12255, 14402],\n",
       " [14437, 16717],\n",
       " [16758, 18593],\n",
       " [18600, 20462],\n",
       " [20499, 22385],\n",
       " [22498, 24551],\n",
       " [24678, 26656],\n",
       " [26693, 28778],\n",
       " [28824, 30860],\n",
       " [30925, 32667],\n",
       " [32780, 34455],\n",
       " [34509, 36320],\n",
       " [36521, 38521],\n",
       " [38562, 40620],\n",
       " [40640, 42512],\n",
       " [42533, 44862],\n",
       " [45537, 46601],\n",
       " [46733, 48545],\n",
       " [48839, 50954],\n",
       " [50996, 52959],\n",
       " [52981, 54732],\n",
       " [54774, 56468],\n",
       " [56504, 58539],\n",
       " [58569, 60376],\n",
       " [60405, 61371],\n",
       " [62891, 63807]]"
      ]
     },
     "execution_count": 67,
     "metadata": {},
     "output_type": "execute_result"
    }
   ],
   "source": [
    "# To use for verifying the cheap function:\n",
    "silent_segments =  detect_silence(alvclick, min_silence_len_ms, silence_upper_bound_dbfs)\n",
    "print(len(silent_segments))\n",
    "silent_segments\n",
    "\n",
    "# ok so it looks like the right endpoint is exclusive"
   ]
  },
  {
   "cell_type": "markdown",
   "metadata": {},
   "source": [
    "Looks like the number of non-silent sections that we get when we look for segments that are louder than the median + 1 SD are about what we'd expect. \n",
    "\n",
    "So now we just need a function that gives us the inverse sections in a cheap way, so that we have both sorts of sections."
   ]
  },
  {
   "cell_type": "markdown",
   "metadata": {},
   "source": [
    "#### b. Find segments with min duration 30ms and whose relative energy > mean. Call these `tgt_segments`\n"
   ]
  },
  {
   "cell_type": "code",
   "execution_count": null,
   "metadata": {},
   "outputs": [],
   "source": [
    "# ok now filter out the sections with duration < 30ms\n",
    "# and get the silent sections too..."
   ]
  },
  {
   "cell_type": "code",
   "execution_count": null,
   "metadata": {},
   "outputs": [],
   "source": [
    "# 3. Split all segments into frames, both `tgt_segments` and non-target ones.\n",
    "# 4. Annotate frames of `tgt_segments` with the sound type, and annotate all other frames as 'silence'\n",
    "# mean_dBFS = audio_segment.dBFS\n"
   ]
  },
  {
   "cell_type": "markdown",
   "metadata": {},
   "source": [
    "c. Split all segments into frames, both `tgt_segments` and non-target ones."
   ]
  },
  {
   "cell_type": "code",
   "execution_count": null,
   "metadata": {},
   "outputs": [],
   "source": [
    "#frames = librosa.util.frame(alvclick_y, frame_length=2048, hop_length=64)\n"
   ]
  },
  {
   "cell_type": "markdown",
   "metadata": {},
   "source": [
    "d. Annotate frames of `tgt_segments` with the sound type, and annotate all other frames as 'silence'"
   ]
  },
  {
   "cell_type": "markdown",
   "metadata": {},
   "source": []
  }
 ],
 "metadata": {
  "kernelspec": {
   "display_name": "parrotexps",
   "language": "python",
   "name": "python3"
  },
  "language_info": {
   "codemirror_mode": {
    "name": "ipython",
    "version": 3
   },
   "file_extension": ".py",
   "mimetype": "text/x-python",
   "name": "python",
   "nbconvert_exporter": "python",
   "pygments_lexer": "ipython3",
   "version": "3.10.4 | packaged by conda-forge | (main, Mar 24 2022, 17:43:32) [Clang 12.0.1 ]"
  },
  "orig_nbformat": 4,
  "vscode": {
   "interpreter": {
    "hash": "b9853b57d235e4288868505aa1f5d0997f075ccca6ac7607b8528354980a68bc"
   }
  }
 },
 "nbformat": 4,
 "nbformat_minor": 2
}
